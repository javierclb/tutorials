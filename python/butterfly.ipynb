{
 "cells": [
  {
   "cell_type": "code",
   "execution_count": null,
   "metadata": {},
   "outputs": [],
   "source": [
    "import numpy as np\n  # import NumPy",
    "import matplotlib.pyplot as plt\n  # import subpackage pyplot inside Matplotlib"
    "%matplotlib inline\n"
    "\n"
    "t = np.linspace(0,20*np.pi,1000)\n  # Create NumPy arrays"
    "u = np.exp(np.cos(t)) - 2*np.cos(4*t) - np.sin(t/12)**5\n"
    "x = np.sin(t) * u\n"
    "y = np.cos(t) * u\n"
   ]
  }
 ],
 "metadata": {
  "kernelspec": {
   "display_name": "Python 3",
   "language": "python",
   "name": "python3"
  },
  "language_info": {
   "codemirror_mode": {
    "name": "ipython",
    "version": 3
   },
   "file_extension": ".py",
   "mimetype": "text/x-python",
   "name": "python",
   "nbconvert_exporter": "python",
   "pygments_lexer": "ipython3",
   "version": "3.6.4"
  }
 },
 "nbformat": 4,
 "nbformat_minor": 2
}
