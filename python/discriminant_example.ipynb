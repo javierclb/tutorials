{
 "cells": [
  {
   "cell_type": "code",
   "execution_count": null,
   "metadata": {},
   "outputs": [],
   "source": [
    "a=1\n",
    "b=1\n",
    "c=2\n",
    "discriminant = b**2 - 4*a*c \n",
    "print('f(x) = ',a,'x^2 +',b,'x +',c)\n",
    "if (discriminant > 0):\n",
    "    print('The polynomial has real distinct roots.')\n",
    "elif (discriminant < 0):\n",
    "    print('The polynomial has complex roots.')\n",
    "else:\n", 
    "    print('The polynomial has repeated roots.')\n"
   ]
  }
 ],
 "metadata": {
  "kernelspec": {
   "display_name": "Python 3",
   "language": "python",
   "name": "python3"
  },
  "language_info": {
   "codemirror_mode": {
    "name": "ipython",
    "version": 3
   },
   "file_extension": ".py",
   "mimetype": "text/x-python",
   "name": "python",
   "nbconvert_exporter": "python",
   "pygments_lexer": "ipython3",
   "version": "3.6.4"
  }
 },
 "nbformat": 4,
 "nbformat_minor": 2
}
