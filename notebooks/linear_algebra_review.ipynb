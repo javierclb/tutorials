{
 "cells": [
  {
   "cell_type": "markdown",
   "metadata": {},
   "source": [
    "# Math Review\n",
    "1. Basic vector and matrix operations\n",
    "1. Propeties of matrices\n",
    "1. Matrix-vector products as inner products"
   ]
  },
  {
   "cell_type": "markdown",
   "metadata": {},
   "source": [
    "## Create a row vector"
   ]
  },
  {
   "cell_type": "code",
   "execution_count": 1,
   "metadata": {},
   "outputs": [
    {
     "data": {
      "text/plain": [
       "1×3 Array{Int64,2}:\n",
       " 10  20  30"
      ]
     },
     "execution_count": 1,
     "metadata": {},
     "output_type": "execute_result"
    }
   ],
   "source": [
    "c = [10 20 30]"
   ]
  },
  {
   "cell_type": "markdown",
   "metadata": {},
   "source": [
    "## Creating a column vector"
   ]
  },
  {
   "cell_type": "code",
   "execution_count": 2,
   "metadata": {},
   "outputs": [
    {
     "data": {
      "text/plain": [
       "3-element Array{Int64,1}:\n",
       " 10\n",
       " 20\n",
       " 30"
      ]
     },
     "execution_count": 2,
     "metadata": {},
     "output_type": "execute_result"
    }
   ],
   "source": [
    "a = [10;\n",
    "    20;\n",
    "    30]"
   ]
  },
  {
   "cell_type": "markdown",
   "metadata": {},
   "source": [
    "## Row vectors by taking transpose"
   ]
  },
  {
   "cell_type": "code",
   "execution_count": 3,
   "metadata": {},
   "outputs": [
    {
     "data": {
      "text/plain": [
       "1×3 RowVector{Int64,Array{Int64,1}}:\n",
       " 10  20  30"
      ]
     },
     "execution_count": 3,
     "metadata": {},
     "output_type": "execute_result"
    }
   ],
   "source": [
    "a'"
   ]
  },
  {
   "cell_type": "markdown",
   "metadata": {},
   "source": [
    "## The size of the vector"
   ]
  },
  {
   "cell_type": "code",
   "execution_count": 4,
   "metadata": {},
   "outputs": [
    {
     "data": {
      "text/plain": [
       "(3,)"
      ]
     },
     "execution_count": 4,
     "metadata": {},
     "output_type": "execute_result"
    }
   ],
   "source": [
    "size(a)"
   ]
  },
  {
   "cell_type": "markdown",
   "metadata": {},
   "source": [
    "## Create a 3x2 matrix"
   ]
  },
  {
   "cell_type": "code",
   "execution_count": 5,
   "metadata": {},
   "outputs": [
    {
     "data": {
      "text/plain": [
       "2×3 Array{Int64,2}:\n",
       " 1   2  3\n",
       " 0  -6  7"
      ]
     },
     "execution_count": 5,
     "metadata": {},
     "output_type": "execute_result"
    }
   ],
   "source": [
    "B = [1 2 3;\n",
    "    0 -6 7]"
   ]
  },
  {
   "cell_type": "markdown",
   "metadata": {},
   "source": [
    "## Tranpose to get a 2x3\n",
    "Turns rows into columns and vice-versa"
   ]
  },
  {
   "cell_type": "code",
   "execution_count": 6,
   "metadata": {},
   "outputs": [
    {
     "data": {
      "text/plain": [
       "3×2 Array{Int64,2}:\n",
       " 1   0\n",
       " 2  -6\n",
       " 3   7"
      ]
     },
     "execution_count": 6,
     "metadata": {},
     "output_type": "execute_result"
    }
   ],
   "source": [
    "B'"
   ]
  },
  {
   "cell_type": "markdown",
   "metadata": {},
   "source": [
    "## Key property of Transpose\n",
    "$$\n",
    "(A')' = A\n",
    "$$"
   ]
  },
  {
   "cell_type": "code",
   "execution_count": 7,
   "metadata": {},
   "outputs": [
    {
     "name": "stdout",
     "output_type": "stream",
     "text": [
      "[10 20; 30 40]\n",
      "[10 20; 30 40]\n"
     ]
    }
   ],
   "source": [
    "A = [10 20;\n",
    "     30 40]\n",
    "println(A)\n",
    "\n",
    "println((A')')"
   ]
  },
  {
   "cell_type": "markdown",
   "metadata": {},
   "source": [
    "## Matrix Addition\n",
    "$$\n",
    "A + B = \\left[\\begin{matrix} a_{11}+b_{11} & a_{12}+b_{12} & \\cdots & a_{1m}+b_{1m} \\\\ a_{21}+b_{21} & a_{22}+b_{22} & \\cdots & a_{2m}+b_{2m} \\\\ a_{n1}+b_{n1} & a_{n2}+b_{n2} & \\cdots & a_{nm}+b_{nm}\\end{matrix}\\right]\n",
    "$$\n",
    "\n",
    "**Properties:**\n",
    "- Commutativity of Addition : $A + B = B + A$\n",
    "- Associativity : $\\left(A + B \\right) + C = A + \\left(B + C \\right) = A + B + C$\n",
    "-  $(A + B)^T = A^T + B^T$\n",
    "- Properties of subtraction are identical "
   ]
  },
  {
   "cell_type": "code",
   "execution_count": 8,
   "metadata": {},
   "outputs": [
    {
     "data": {
      "text/plain": [
       "2×2 Array{Int64,2}:\n",
       " 11  22\n",
       " 33  44"
      ]
     },
     "execution_count": 8,
     "metadata": {},
     "output_type": "execute_result"
    }
   ],
   "source": [
    "A = [10 20;\n",
    "     30 40]\n",
    "B = [1 2;\n",
    "     3 4]\n",
    "A + B"
   ]
  },
  {
   "cell_type": "markdown",
   "metadata": {},
   "source": [
    "## Matrix Multiplication\n",
    "$$\n",
    "\\underbrace{C}_{n \\times p} = \\underbrace{A}_{n \\times m} \\, \\underbrace{B}_{m \\times p}\n",
    "$$\n",
    "\n",
    "**Formula (generally not necessary in practice)**:\n",
    "$$\n",
    "C_{ik} = \\sum_{j=1}^{m} A_{ij}B_{jk}\n",
    "$$\n",
    "- Key: the inner sizes $m$ need to match!  Can use to ensure multiplying in right order\n",
    "\n",
    "1. Example 1:\n",
    "$$\n",
    "\\begin{bmatrix} a_{11} & a_{12} \\\\ a_{21} & a_{22} \\end{bmatrix} \\cdot \\begin{bmatrix} b_{11} & b_{12} \\\\ b_{21} & b_{22} \\end{bmatrix} =\n",
    "\\begin{bmatrix} c_{11}=a_{11}b_{11} + a_{12}b_{21} & c_{12}=a_{11}b_{12} + a_{12}b_{22} \\\\ c_{21}=a_{21}b_{11}+a_{22}b_{21} & c_{22}=a_{21}b_{12}+a_{22}b_{22} \\end{bmatrix}\n",
    "$$\n",
    "1. Example 2:\n",
    "$$\n",
    "\\left[\\begin{matrix} \\underline{\\mathbf{2}} & \\underline{\\mathbf{3}} & \\underline{\\mathbf {4}} \\\\ 1 & 0 & 0 \\end{matrix}\\right] \\cdot \\left[\\begin{matrix}0 & \\underline{\\mathbf{ 1000}} \\\\ 1 & \\underline{\\mathbf{100}} \\\\ 0 & \\underline{\\mathbf{10}} \\end{matrix}\\right] = \\left[\\begin{matrix}3 & \\underline{\\mathbf{2340}} \\\\ 0 & 1000\\end{matrix}\\right]\n",
    "$$"
   ]
  },
  {
   "cell_type": "code",
   "execution_count": 9,
   "metadata": {},
   "outputs": [
    {
     "data": {
      "text/plain": [
       "2×2 Array{Int64,2}:\n",
       " 3  2340\n",
       " 0  1000"
      ]
     },
     "execution_count": 9,
     "metadata": {},
     "output_type": "execute_result"
    }
   ],
   "source": [
    "A = [2 3 4;\n",
    "    1 0 0]\n",
    "B = [0 1000;\n",
    "    1 100;\n",
    "    0 10];\n",
    "A * B"
   ]
  },
  {
   "cell_type": "markdown",
   "metadata": {},
   "source": [
    "## More Properties of Matrix Multiplication\n",
    "- Associativity: $\\left(AB\\right)C = A\\left(BC\\right)$; $\\left(\\alpha\\beta \\right)A = \\alpha \\left(\\beta A \\right), \\alpha \\left(AB \\right) = \\left(\\alpha A\\right) B$\n",
    "- Distributivity: $\\left(A+B\\right)C = AC + BC$ and $C\\left(A+B\\right) = CA + CB$; \n",
    "$\\left(\\alpha + \\beta \\right)A = \\alpha A + \\beta A$\n",
    "- Commutativity for **scalar** multiplication: $\\alpha \\cdot A = A \\cdot \\alpha$\n",
    "- Commutativity **does not hold** for matrix multiplication in general: $A B \\neq B A$ \n",
    "- Transpose: $(A B)' = B' A'$"
   ]
  },
  {
   "cell_type": "code",
   "execution_count": 10,
   "metadata": {},
   "outputs": [
    {
     "name": "stdout",
     "output_type": "stream",
     "text": [
      "Scalar commutatity: true\n",
      "General commutatity: false\n",
      "Order of transpose: true\n"
     ]
    }
   ],
   "source": [
    "A = [2 3;\n",
    "    1 0]\n",
    "B = [-1 3;\n",
    "    2 9]\n",
    "α = 2\n",
    "println(\"Scalar commutatity: \", α * A == A * α)\n",
    "println(\"General commutatity: \", A * B == B * A)\n",
    "println(\"Order of transpose: \", (A * B)' == B' * A')"
   ]
  },
  {
   "cell_type": "markdown",
   "metadata": {},
   "source": [
    "## Dot Products and Matrix-vector Multiplication\n",
    "- A dot product is the sum of products of vectors component,\n",
    "$$\n",
    "a \\cdot b = a_1 b_1 + a_2 b_2 + \\ldots a_n b_n\n",
    "$$\n",
    "- Alternatively in terms of matrix multiplication\n",
    "$$\n",
    "a \\cdot b = a' b\n",
    "$$\n",
    "- Can think of matrix-vector multiplication as \"stacking\" of dot-products"
   ]
  },
  {
   "cell_type": "code",
   "execution_count": 11,
   "metadata": {},
   "outputs": [
    {
     "name": "stdout",
     "output_type": "stream",
     "text": [
      "Dot products and matrix multiplication: true\n"
     ]
    },
    {
     "data": {
      "text/plain": [
       "true"
      ]
     },
     "execution_count": 11,
     "metadata": {},
     "output_type": "execute_result"
    }
   ],
   "source": [
    "a = [3; -1]\n",
    "b = [2; 1]\n",
    "println(\"Dot products and matrix multiplication: \", dot(a,b) == a' * b)\n",
    "\n",
    "#Stacking\n",
    "A = [1 2;\n",
    "     3 4;\n",
    "     5 6]\n",
    "b = [3; -1]\n",
    "\n",
    "#Multiplying as stacking\n",
    "[   [1 2] * b;\n",
    "    [3 4] * b;\n",
    "    [5 6] * b\n",
    "] == A * b"
   ]
  },
  {
   "cell_type": "markdown",
   "metadata": {},
   "source": [
    "## Selecting an element of a vector"
   ]
  },
  {
   "cell_type": "code",
   "execution_count": 12,
   "metadata": {},
   "outputs": [
    {
     "data": {
      "text/plain": [
       "1-element Array{Int64,1}:\n",
       " 5"
      ]
     },
     "execution_count": 12,
     "metadata": {},
     "output_type": "execute_result"
    }
   ],
   "source": [
    "x = [4; 5; 6]\n",
    "selector = [0 1 0] #Put a 1 in the index you want to extract\n",
    "selector * x"
   ]
  },
  {
   "cell_type": "markdown",
   "metadata": {},
   "source": [
    "## Identity Matrix and Inverses\n",
    "- Define $I$ as the diagonal matrix of 1's\n",
    "$$\n",
    "I = \\begin{bmatrix}\n",
    "    1 & 0 & \\ldots & 0\\\\\n",
    "    0 & 1 & \\ldots & 0\\\\\n",
    "    \\vdots & \\vdots & \\vdots & \\vdots\\\\\n",
    "    0 & \\ldots & 0 & 1\n",
    "    \\end{bmatrix}\n",
    "$$\n",
    "- For any matrix or vector, $I X = X I = X$\n",
    "- If $A$ is square, and a square $F$ satisfies $F A = I$, then:\n",
    "  - $F$ is called the inverse of $A$ and is denoted $A^{-1}$\n",
    "  - The matrix $A$ is called invertible or nonsingular\n",
    "  - $A\\, A^{-1} = I$, where all are $n \\times n$.  Prove it!\n",
    "- For scalars, $A B^{-1}$ could be denoted $A/B$ but ambiguous for matrices due to lack of commutativity\n",
    "  - i.e., does $\\frac{A}{B}$ mean $A B^{-1}$ or $B^{-1} A$?\n"
   ]
  },
  {
   "cell_type": "code",
   "execution_count": 13,
   "metadata": {},
   "outputs": [
    {
     "data": {
      "text/plain": [
       "2×2 Array{Int64,2}:\n",
       " 1  2\n",
       " 3  4"
      ]
     },
     "execution_count": 13,
     "metadata": {},
     "output_type": "execute_result"
    }
   ],
   "source": [
    "#In Julia the \"I\" provides the identity matrix of the right size.\n",
    "A = [1 2; 3 4]\n",
    "I * A"
   ]
  },
  {
   "cell_type": "code",
   "execution_count": 14,
   "metadata": {},
   "outputs": [
    {
     "data": {
      "text/plain": [
       "2×2 Array{Float64,2}:\n",
       " 1.0  2.0\n",
       " 3.0  4.0"
      ]
     },
     "execution_count": 14,
     "metadata": {},
     "output_type": "execute_result"
    }
   ],
   "source": [
    "#Or can get an actual matrix\n",
    "eye(2) * A"
   ]
  },
  {
   "cell_type": "code",
   "execution_count": 15,
   "metadata": {},
   "outputs": [
    {
     "data": {
      "text/plain": [
       "2×2 Array{Float64,2}:\n",
       " -2.0   1.0\n",
       "  1.5  -0.5"
      ]
     },
     "execution_count": 15,
     "metadata": {},
     "output_type": "execute_result"
    }
   ],
   "source": [
    "#Inverting in Julia\n",
    "A = [1 2; 3 4]\n",
    "inv(A)"
   ]
  },
  {
   "cell_type": "code",
   "execution_count": 16,
   "metadata": {},
   "outputs": [
    {
     "data": {
      "text/plain": [
       "2×2 Array{Float64,2}:\n",
       " 1.0          0.0\n",
       " 2.22045e-16  1.0"
      ]
     },
     "execution_count": 16,
     "metadata": {},
     "output_type": "execute_result"
    }
   ],
   "source": [
    "#Very close to the identity matrix.  Note numerical issues with floating points!\n",
    "inv(A) * A"
   ]
  },
  {
   "cell_type": "code",
   "execution_count": 17,
   "metadata": {},
   "outputs": [
    {
     "data": {
      "text/plain": [
       "true"
      ]
     },
     "execution_count": 17,
     "metadata": {},
     "output_type": "execute_result"
    }
   ],
   "source": [
    "#Some inverses are very easy\n",
    "A = [2 0;\n",
    "     0 4]\n",
    "inv(A) == [1/2 0;\n",
    "            0 1/4]"
   ]
  },
  {
   "cell_type": "markdown",
   "metadata": {},
   "source": [
    "## Systems of Equations\n",
    "$$A x = b$$\n",
    "- Where $A$ is an $n \\times n$ matrix, and $b$ a vector of length $n$.\n",
    "- Find $x$ which solves this equation.\n",
    "- Could left multiply both sides by $A^{-1}$ and use the identity matrix to find\n",
    "$$\n",
    "A^{-1} A x = I x = x = A^{-1} b\n",
    "$$\n",
    "- So the matrix inverse (if it exists) can help solve systems of equations.  In practice, though, there are better methods"
   ]
  },
  {
   "cell_type": "code",
   "execution_count": 18,
   "metadata": {},
   "outputs": [
    {
     "data": {
      "text/plain": [
       "2-element Array{Float64,1}:\n",
       "  5.0\n",
       " -3.0"
      ]
     },
     "execution_count": 18,
     "metadata": {},
     "output_type": "execute_result"
    }
   ],
   "source": [
    "#Using the inverse (inefficient in general)\n",
    "A = [3 4;\n",
    "    5 6]\n",
    "b = [3; 7]\n",
    "inv(A) * b"
   ]
  },
  {
   "cell_type": "code",
   "execution_count": 19,
   "metadata": {},
   "outputs": [
    {
     "data": {
      "text/plain": [
       "2-element Array{Float64,1}:\n",
       "  5.0\n",
       " -3.0"
      ]
     },
     "execution_count": 19,
     "metadata": {},
     "output_type": "execute_result"
    }
   ],
   "source": [
    "#Use built in solvers in Julia\n",
    "A \\ b"
   ]
  }
 ],
 "metadata": {
  "kernelspec": {
   "display_name": "Julia 0.6.1",
   "language": "julia",
   "name": "julia-0.6"
  },
  "language_info": {
   "file_extension": ".jl",
   "mimetype": "application/julia",
   "name": "julia",
   "version": "0.6.1"
  }
 },
 "nbformat": 4,
 "nbformat_minor": 2
}
